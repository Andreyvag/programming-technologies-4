{
  "nbformat": 4,
  "nbformat_minor": 0,
  "metadata": {
    "kernelspec": {
      "display_name": "Python 3",
      "language": "python",
      "name": "python3"
    },
    "language_info": {
      "codemirror_mode": {
        "name": "ipython",
        "version": 3
      },
      "file_extension": ".py",
      "mimetype": "text/x-python",
      "name": "python",
      "nbconvert_exporter": "python",
      "pygments_lexer": "ipython3",
      "version": "3.8.3"
    },
    "colab": {
      "name": "lab4.ipynb",
      "provenance": []
    }
  },
  "cells": [
    {
      "cell_type": "markdown",
      "metadata": {
        "id": "Dr_GtRbZ6TBb"
      },
      "source": [
        "# Лабораторная работа №4\n",
        "_Анализ и визуализация данных в Python_\n",
        "\n",
        "Для начала о том, как пользоваться интерактивным блокнотом. Код помещается в ячейки, для выполнения кода в ячейке нужно кликнуть в ней мышкой, чтобы она выделилась, и нажать Shift-Enter. Поэкспериментируйте на ячейке ниже:"
      ]
    },
    {
      "cell_type": "code",
      "metadata": {
        "scrolled": false,
        "id": "A3Yy9VXC6TBe"
      },
      "source": [
        "1+1"
      ],
      "execution_count": null,
      "outputs": []
    },
    {
      "cell_type": "markdown",
      "metadata": {
        "id": "v5_aeMjY6TBe"
      },
      "source": [
        "Если в ячейке находятся несколько выражений, то результатом выполнения ячейки будет результат последнего выражения в ней:"
      ]
    },
    {
      "cell_type": "code",
      "metadata": {
        "scrolled": true,
        "id": "qmk0TOBf6TBf"
      },
      "source": [
        "1+1\n",
        "1+2"
      ],
      "execution_count": null,
      "outputs": []
    },
    {
      "cell_type": "markdown",
      "metadata": {
        "id": "bWfjsmHA6TBg"
      },
      "source": [
        "Теперь перейдём к работе с наборами данных при помощи бибилиотеки pandas"
      ]
    },
    {
      "cell_type": "markdown",
      "metadata": {
        "id": "gNtK--hO6TBg"
      },
      "source": [
        "## Pandas\n",
        "Для того, чтобы начать работать с pandas, как и всегда в python, его нужно импортировать. Обычно это делают так:"
      ]
    },
    {
      "cell_type": "code",
      "metadata": {
        "id": "t3zIFLqL6TBg"
      },
      "source": [
        "import pandas as pd"
      ],
      "execution_count": 3,
      "outputs": []
    },
    {
      "cell_type": "markdown",
      "metadata": {
        "id": "8NneXBQ06TBh"
      },
      "source": [
        "Теперь попробуем загрузить набор данных. Для примера возьмём titanic.csv из каталога datasets, который можно загрузить при помощи функции read_csv:"
      ]
    },
    {
      "cell_type": "code",
      "metadata": {
        "id": "vRkOQQf06TBh"
      },
      "source": [
        "url='https://raw.githubusercontent.com/citrux/programming-technologies-4/main/datasets/titanic.csv'\r\n",
        "data = pd.read_csv(url)"
      ],
      "execution_count": 4,
      "outputs": []
    },
    {
      "cell_type": "markdown",
      "metadata": {
        "id": "s2HrrC5g6TBi"
      },
      "source": [
        "Взглянем на загруженные данные"
      ]
    },
    {
      "cell_type": "code",
      "metadata": {
        "id": "kOBroACp6TBj",
        "outputId": "163a41c4-54f5-4947-8b5d-d093bf13ee40",
        "colab": {
          "base_uri": "https://localhost:8080/",
          "height": 424
        }
      },
      "source": [
        "data"
      ],
      "execution_count": 5,
      "outputs": [
        {
          "output_type": "execute_result",
          "data": {
            "text/html": [
              "<div>\n",
              "<style scoped>\n",
              "    .dataframe tbody tr th:only-of-type {\n",
              "        vertical-align: middle;\n",
              "    }\n",
              "\n",
              "    .dataframe tbody tr th {\n",
              "        vertical-align: top;\n",
              "    }\n",
              "\n",
              "    .dataframe thead th {\n",
              "        text-align: right;\n",
              "    }\n",
              "</style>\n",
              "<table border=\"1\" class=\"dataframe\">\n",
              "  <thead>\n",
              "    <tr style=\"text-align: right;\">\n",
              "      <th></th>\n",
              "      <th>PassengerId</th>\n",
              "      <th>Survived</th>\n",
              "      <th>Pclass</th>\n",
              "      <th>Name</th>\n",
              "      <th>Sex</th>\n",
              "      <th>Age</th>\n",
              "      <th>SibSp</th>\n",
              "      <th>Parch</th>\n",
              "      <th>Ticket</th>\n",
              "      <th>Fare</th>\n",
              "      <th>Cabin</th>\n",
              "      <th>Embarked</th>\n",
              "    </tr>\n",
              "  </thead>\n",
              "  <tbody>\n",
              "    <tr>\n",
              "      <th>0</th>\n",
              "      <td>1</td>\n",
              "      <td>0</td>\n",
              "      <td>3</td>\n",
              "      <td>Braund, Mr. Owen Harris</td>\n",
              "      <td>male</td>\n",
              "      <td>22.0</td>\n",
              "      <td>1</td>\n",
              "      <td>0</td>\n",
              "      <td>A/5 21171</td>\n",
              "      <td>7.2500</td>\n",
              "      <td>NaN</td>\n",
              "      <td>S</td>\n",
              "    </tr>\n",
              "    <tr>\n",
              "      <th>1</th>\n",
              "      <td>2</td>\n",
              "      <td>1</td>\n",
              "      <td>1</td>\n",
              "      <td>Cumings, Mrs. John Bradley (Florence Briggs Th...</td>\n",
              "      <td>female</td>\n",
              "      <td>38.0</td>\n",
              "      <td>1</td>\n",
              "      <td>0</td>\n",
              "      <td>PC 17599</td>\n",
              "      <td>71.2833</td>\n",
              "      <td>C85</td>\n",
              "      <td>C</td>\n",
              "    </tr>\n",
              "    <tr>\n",
              "      <th>2</th>\n",
              "      <td>3</td>\n",
              "      <td>1</td>\n",
              "      <td>3</td>\n",
              "      <td>Heikkinen, Miss. Laina</td>\n",
              "      <td>female</td>\n",
              "      <td>26.0</td>\n",
              "      <td>0</td>\n",
              "      <td>0</td>\n",
              "      <td>STON/O2. 3101282</td>\n",
              "      <td>7.9250</td>\n",
              "      <td>NaN</td>\n",
              "      <td>S</td>\n",
              "    </tr>\n",
              "    <tr>\n",
              "      <th>3</th>\n",
              "      <td>4</td>\n",
              "      <td>1</td>\n",
              "      <td>1</td>\n",
              "      <td>Futrelle, Mrs. Jacques Heath (Lily May Peel)</td>\n",
              "      <td>female</td>\n",
              "      <td>35.0</td>\n",
              "      <td>1</td>\n",
              "      <td>0</td>\n",
              "      <td>113803</td>\n",
              "      <td>53.1000</td>\n",
              "      <td>C123</td>\n",
              "      <td>S</td>\n",
              "    </tr>\n",
              "    <tr>\n",
              "      <th>4</th>\n",
              "      <td>5</td>\n",
              "      <td>0</td>\n",
              "      <td>3</td>\n",
              "      <td>Allen, Mr. William Henry</td>\n",
              "      <td>male</td>\n",
              "      <td>35.0</td>\n",
              "      <td>0</td>\n",
              "      <td>0</td>\n",
              "      <td>373450</td>\n",
              "      <td>8.0500</td>\n",
              "      <td>NaN</td>\n",
              "      <td>S</td>\n",
              "    </tr>\n",
              "    <tr>\n",
              "      <th>...</th>\n",
              "      <td>...</td>\n",
              "      <td>...</td>\n",
              "      <td>...</td>\n",
              "      <td>...</td>\n",
              "      <td>...</td>\n",
              "      <td>...</td>\n",
              "      <td>...</td>\n",
              "      <td>...</td>\n",
              "      <td>...</td>\n",
              "      <td>...</td>\n",
              "      <td>...</td>\n",
              "      <td>...</td>\n",
              "    </tr>\n",
              "    <tr>\n",
              "      <th>886</th>\n",
              "      <td>887</td>\n",
              "      <td>0</td>\n",
              "      <td>2</td>\n",
              "      <td>Montvila, Rev. Juozas</td>\n",
              "      <td>male</td>\n",
              "      <td>27.0</td>\n",
              "      <td>0</td>\n",
              "      <td>0</td>\n",
              "      <td>211536</td>\n",
              "      <td>13.0000</td>\n",
              "      <td>NaN</td>\n",
              "      <td>S</td>\n",
              "    </tr>\n",
              "    <tr>\n",
              "      <th>887</th>\n",
              "      <td>888</td>\n",
              "      <td>1</td>\n",
              "      <td>1</td>\n",
              "      <td>Graham, Miss. Margaret Edith</td>\n",
              "      <td>female</td>\n",
              "      <td>19.0</td>\n",
              "      <td>0</td>\n",
              "      <td>0</td>\n",
              "      <td>112053</td>\n",
              "      <td>30.0000</td>\n",
              "      <td>B42</td>\n",
              "      <td>S</td>\n",
              "    </tr>\n",
              "    <tr>\n",
              "      <th>888</th>\n",
              "      <td>889</td>\n",
              "      <td>0</td>\n",
              "      <td>3</td>\n",
              "      <td>Johnston, Miss. Catherine Helen \"Carrie\"</td>\n",
              "      <td>female</td>\n",
              "      <td>NaN</td>\n",
              "      <td>1</td>\n",
              "      <td>2</td>\n",
              "      <td>W./C. 6607</td>\n",
              "      <td>23.4500</td>\n",
              "      <td>NaN</td>\n",
              "      <td>S</td>\n",
              "    </tr>\n",
              "    <tr>\n",
              "      <th>889</th>\n",
              "      <td>890</td>\n",
              "      <td>1</td>\n",
              "      <td>1</td>\n",
              "      <td>Behr, Mr. Karl Howell</td>\n",
              "      <td>male</td>\n",
              "      <td>26.0</td>\n",
              "      <td>0</td>\n",
              "      <td>0</td>\n",
              "      <td>111369</td>\n",
              "      <td>30.0000</td>\n",
              "      <td>C148</td>\n",
              "      <td>C</td>\n",
              "    </tr>\n",
              "    <tr>\n",
              "      <th>890</th>\n",
              "      <td>891</td>\n",
              "      <td>0</td>\n",
              "      <td>3</td>\n",
              "      <td>Dooley, Mr. Patrick</td>\n",
              "      <td>male</td>\n",
              "      <td>32.0</td>\n",
              "      <td>0</td>\n",
              "      <td>0</td>\n",
              "      <td>370376</td>\n",
              "      <td>7.7500</td>\n",
              "      <td>NaN</td>\n",
              "      <td>Q</td>\n",
              "    </tr>\n",
              "  </tbody>\n",
              "</table>\n",
              "<p>891 rows × 12 columns</p>\n",
              "</div>"
            ],
            "text/plain": [
              "     PassengerId  Survived  Pclass  ...     Fare Cabin  Embarked\n",
              "0              1         0       3  ...   7.2500   NaN         S\n",
              "1              2         1       1  ...  71.2833   C85         C\n",
              "2              3         1       3  ...   7.9250   NaN         S\n",
              "3              4         1       1  ...  53.1000  C123         S\n",
              "4              5         0       3  ...   8.0500   NaN         S\n",
              "..           ...       ...     ...  ...      ...   ...       ...\n",
              "886          887         0       2  ...  13.0000   NaN         S\n",
              "887          888         1       1  ...  30.0000   B42         S\n",
              "888          889         0       3  ...  23.4500   NaN         S\n",
              "889          890         1       1  ...  30.0000  C148         C\n",
              "890          891         0       3  ...   7.7500   NaN         Q\n",
              "\n",
              "[891 rows x 12 columns]"
            ]
          },
          "metadata": {
            "tags": []
          },
          "execution_count": 5
        }
      ]
    },
    {
      "cell_type": "markdown",
      "metadata": {
        "id": "7E9wxOUs6TBk"
      },
      "source": [
        "Можно попробовать найти в этих данных что-нибудь интересное. Например, посчитаем, какое количество мужчин и женщин было на корабле. Информация об этом хранится в столбце Sex, доступ к которому можно получить следующими способами"
      ]
    },
    {
      "cell_type": "code",
      "metadata": {
        "id": "Q_rQ3pbZ6TBl",
        "outputId": "6f8e6b8b-d5fb-4b44-88f6-a37f0ee8a9a8",
        "colab": {
          "base_uri": "https://localhost:8080/"
        }
      },
      "source": [
        "data.Sex"
      ],
      "execution_count": 8,
      "outputs": [
        {
          "output_type": "execute_result",
          "data": {
            "text/plain": [
              "0        male\n",
              "1      female\n",
              "2      female\n",
              "3      female\n",
              "4        male\n",
              "        ...  \n",
              "886      male\n",
              "887    female\n",
              "888    female\n",
              "889      male\n",
              "890      male\n",
              "Name: Sex, Length: 891, dtype: object"
            ]
          },
          "metadata": {
            "tags": []
          },
          "execution_count": 8
        }
      ]
    },
    {
      "cell_type": "markdown",
      "metadata": {
        "id": "tVg0Cj0p6TBm"
      },
      "source": [
        "или"
      ]
    },
    {
      "cell_type": "code",
      "metadata": {
        "id": "M58x5cMW6TBm",
        "outputId": "e8b10140-5038-4ed9-c09e-9ad384d57122",
        "colab": {
          "base_uri": "https://localhost:8080/"
        }
      },
      "source": [
        "data['Sex']"
      ],
      "execution_count": 9,
      "outputs": [
        {
          "output_type": "execute_result",
          "data": {
            "text/plain": [
              "0        male\n",
              "1      female\n",
              "2      female\n",
              "3      female\n",
              "4        male\n",
              "        ...  \n",
              "886      male\n",
              "887    female\n",
              "888    female\n",
              "889      male\n",
              "890      male\n",
              "Name: Sex, Length: 891, dtype: object"
            ]
          },
          "metadata": {
            "tags": []
          },
          "execution_count": 9
        }
      ]
    },
    {
      "cell_type": "markdown",
      "metadata": {
        "id": "Z-7l5EN46TBm"
      },
      "source": [
        "Чтобы посчитать количество мужчин и женщин воспользуемся методом value_counts:"
      ]
    },
    {
      "cell_type": "code",
      "metadata": {
        "id": "Qf53FPOZ6TBm",
        "outputId": "681a6951-ec14-452c-e6fa-c2d088898cd4",
        "colab": {
          "base_uri": "https://localhost:8080/"
        }
      },
      "source": [
        "data.Sex.value_counts()"
      ],
      "execution_count": 10,
      "outputs": [
        {
          "output_type": "execute_result",
          "data": {
            "text/plain": [
              "male      577\n",
              "female    314\n",
              "Name: Sex, dtype: int64"
            ]
          },
          "metadata": {
            "tags": []
          },
          "execution_count": 10
        }
      ]
    },
    {
      "cell_type": "markdown",
      "metadata": {
        "id": "aBdOdMO76asL"
      },
      "source": [
        "Извлечение из полного имени пассажира (колонка Name) его личное имя. Выборку делаем только для Женских имен:"
      ]
    },
    {
      "cell_type": "code",
      "metadata": {
        "id": "OGFARS5i62Nj",
        "outputId": "25b771a2-ddeb-42e9-906b-4d0b612cad45",
        "colab": {
          "base_uri": "https://localhost:8080/"
        }
      },
      "source": [
        "def ParseFirstNameFemale(name):\r\n",
        "    first = name.str.extract(r\"Mrs\\.\\s+[^(]*\\((\\w+)\", expand=False)\r\n",
        "    first.loc[first.isna()] = name.str.extract(r\"\\.\\s+(\\w+)\", expand=False)\r\n",
        "    return first\r\n",
        "female_names=ParseFirstNameFemale(data.loc[data[\"Sex\"]==\"female\", \"Name\"])\r\n",
        "female_names"
      ],
      "execution_count": 6,
      "outputs": [
        {
          "output_type": "execute_result",
          "data": {
            "text/plain": [
              "1       Florence\n",
              "2          Laina\n",
              "3           Lily\n",
              "8      Elisabeth\n",
              "9          Adele\n",
              "         ...    \n",
              "880      Imanita\n",
              "882        Gerda\n",
              "885     Margaret\n",
              "887     Margaret\n",
              "888    Catherine\n",
              "Name: Name, Length: 314, dtype: object"
            ]
          },
          "metadata": {
            "tags": []
          },
          "execution_count": 6
        }
      ]
    },
    {
      "cell_type": "code",
      "metadata": {
        "id": "fVXVixiq7aF8",
        "outputId": "3edbf917-be1f-4dcf-ae56-034a24889b7d",
        "colab": {
          "base_uri": "https://localhost:8080/"
        }
      },
      "source": [
        "female_names.value_counts()"
      ],
      "execution_count": 7,
      "outputs": [
        {
          "output_type": "execute_result",
          "data": {
            "text/plain": [
              "Anna         15\n",
              "Mary         14\n",
              "Elizabeth    11\n",
              "Margaret     10\n",
              "Alice         7\n",
              "             ..\n",
              "Sara          1\n",
              "Esther        1\n",
              "Katie         1\n",
              "Laina         1\n",
              "Leila         1\n",
              "Name: Name, Length: 177, dtype: int64"
            ]
          },
          "metadata": {
            "tags": []
          },
          "execution_count": 7
        }
      ]
    },
    {
      "cell_type": "markdown",
      "metadata": {
        "id": "VTcBgH8y6TBn"
      },
      "source": [
        "Можем также получить процентное соотношение, указав флаг normalize:"
      ]
    },
    {
      "cell_type": "code",
      "metadata": {
        "id": "xY-3LnQT6TBn",
        "outputId": "2cc3fda7-9ade-4b66-a9d6-7fb8b3ae480f",
        "colab": {
          "base_uri": "https://localhost:8080/"
        }
      },
      "source": [
        "data.Sex.value_counts(normalize=True)"
      ],
      "execution_count": 11,
      "outputs": [
        {
          "output_type": "execute_result",
          "data": {
            "text/plain": [
              "male      0.647587\n",
              "female    0.352413\n",
              "Name: Sex, dtype: float64"
            ]
          },
          "metadata": {
            "tags": []
          },
          "execution_count": 11
        }
      ]
    },
    {
      "cell_type": "markdown",
      "metadata": {
        "id": "KL8uG3ar6TBn"
      },
      "source": [
        "Можем определить среднюю цену билета, обратившись к столбцу Fare и воспользовавшись методом mean:"
      ]
    },
    {
      "cell_type": "code",
      "metadata": {
        "id": "YLd_wJp-6TBo",
        "outputId": "632e636c-be8d-4392-a9af-efd1324a59f3",
        "colab": {
          "base_uri": "https://localhost:8080/"
        }
      },
      "source": [
        "data.Fare.mean()"
      ],
      "execution_count": 12,
      "outputs": [
        {
          "output_type": "execute_result",
          "data": {
            "text/plain": [
              "32.2042079685746"
            ]
          },
          "metadata": {
            "tags": []
          },
          "execution_count": 12
        }
      ]
    },
    {
      "cell_type": "markdown",
      "metadata": {
        "id": "AqPBNKnc6TBt"
      },
      "source": [
        "Из нашего набора данных можно построить новый, выбрав только нужные столбцы при помощи свойства loc, например"
      ]
    },
    {
      "cell_type": "code",
      "metadata": {
        "id": "hANJXYz36TBu",
        "outputId": "5bcbfdeb-a358-49e2-b3cf-1620e90ca426",
        "colab": {
          "base_uri": "https://localhost:8080/",
          "height": 424
        }
      },
      "source": [
        "new_data = data.loc[:,['Name', 'Age']]\n",
        "new_data"
      ],
      "execution_count": 13,
      "outputs": [
        {
          "output_type": "execute_result",
          "data": {
            "text/html": [
              "<div>\n",
              "<style scoped>\n",
              "    .dataframe tbody tr th:only-of-type {\n",
              "        vertical-align: middle;\n",
              "    }\n",
              "\n",
              "    .dataframe tbody tr th {\n",
              "        vertical-align: top;\n",
              "    }\n",
              "\n",
              "    .dataframe thead th {\n",
              "        text-align: right;\n",
              "    }\n",
              "</style>\n",
              "<table border=\"1\" class=\"dataframe\">\n",
              "  <thead>\n",
              "    <tr style=\"text-align: right;\">\n",
              "      <th></th>\n",
              "      <th>Name</th>\n",
              "      <th>Age</th>\n",
              "    </tr>\n",
              "  </thead>\n",
              "  <tbody>\n",
              "    <tr>\n",
              "      <th>0</th>\n",
              "      <td>Braund, Mr. Owen Harris</td>\n",
              "      <td>22.0</td>\n",
              "    </tr>\n",
              "    <tr>\n",
              "      <th>1</th>\n",
              "      <td>Cumings, Mrs. John Bradley (Florence Briggs Th...</td>\n",
              "      <td>38.0</td>\n",
              "    </tr>\n",
              "    <tr>\n",
              "      <th>2</th>\n",
              "      <td>Heikkinen, Miss. Laina</td>\n",
              "      <td>26.0</td>\n",
              "    </tr>\n",
              "    <tr>\n",
              "      <th>3</th>\n",
              "      <td>Futrelle, Mrs. Jacques Heath (Lily May Peel)</td>\n",
              "      <td>35.0</td>\n",
              "    </tr>\n",
              "    <tr>\n",
              "      <th>4</th>\n",
              "      <td>Allen, Mr. William Henry</td>\n",
              "      <td>35.0</td>\n",
              "    </tr>\n",
              "    <tr>\n",
              "      <th>...</th>\n",
              "      <td>...</td>\n",
              "      <td>...</td>\n",
              "    </tr>\n",
              "    <tr>\n",
              "      <th>886</th>\n",
              "      <td>Montvila, Rev. Juozas</td>\n",
              "      <td>27.0</td>\n",
              "    </tr>\n",
              "    <tr>\n",
              "      <th>887</th>\n",
              "      <td>Graham, Miss. Margaret Edith</td>\n",
              "      <td>19.0</td>\n",
              "    </tr>\n",
              "    <tr>\n",
              "      <th>888</th>\n",
              "      <td>Johnston, Miss. Catherine Helen \"Carrie\"</td>\n",
              "      <td>NaN</td>\n",
              "    </tr>\n",
              "    <tr>\n",
              "      <th>889</th>\n",
              "      <td>Behr, Mr. Karl Howell</td>\n",
              "      <td>26.0</td>\n",
              "    </tr>\n",
              "    <tr>\n",
              "      <th>890</th>\n",
              "      <td>Dooley, Mr. Patrick</td>\n",
              "      <td>32.0</td>\n",
              "    </tr>\n",
              "  </tbody>\n",
              "</table>\n",
              "<p>891 rows × 2 columns</p>\n",
              "</div>"
            ],
            "text/plain": [
              "                                                  Name   Age\n",
              "0                              Braund, Mr. Owen Harris  22.0\n",
              "1    Cumings, Mrs. John Bradley (Florence Briggs Th...  38.0\n",
              "2                               Heikkinen, Miss. Laina  26.0\n",
              "3         Futrelle, Mrs. Jacques Heath (Lily May Peel)  35.0\n",
              "4                             Allen, Mr. William Henry  35.0\n",
              "..                                                 ...   ...\n",
              "886                              Montvila, Rev. Juozas  27.0\n",
              "887                       Graham, Miss. Margaret Edith  19.0\n",
              "888           Johnston, Miss. Catherine Helen \"Carrie\"   NaN\n",
              "889                              Behr, Mr. Karl Howell  26.0\n",
              "890                                Dooley, Mr. Patrick  32.0\n",
              "\n",
              "[891 rows x 2 columns]"
            ]
          },
          "metadata": {
            "tags": []
          },
          "execution_count": 13
        }
      ]
    },
    {
      "cell_type": "markdown",
      "metadata": {
        "id": "7tBXYVat6TBu"
      },
      "source": [
        "Можно отфильтровать только выживших"
      ]
    },
    {
      "cell_type": "code",
      "metadata": {
        "scrolled": true,
        "id": "qSZbpXhi6TBu",
        "outputId": "b4a0bd04-f3f0-4b8a-bbbc-a0d36d9c0052",
        "colab": {
          "base_uri": "https://localhost:8080/",
          "height": 424
        }
      },
      "source": [
        "survived = new_data[data.Survived==1]\n",
        "survived"
      ],
      "execution_count": 14,
      "outputs": [
        {
          "output_type": "execute_result",
          "data": {
            "text/html": [
              "<div>\n",
              "<style scoped>\n",
              "    .dataframe tbody tr th:only-of-type {\n",
              "        vertical-align: middle;\n",
              "    }\n",
              "\n",
              "    .dataframe tbody tr th {\n",
              "        vertical-align: top;\n",
              "    }\n",
              "\n",
              "    .dataframe thead th {\n",
              "        text-align: right;\n",
              "    }\n",
              "</style>\n",
              "<table border=\"1\" class=\"dataframe\">\n",
              "  <thead>\n",
              "    <tr style=\"text-align: right;\">\n",
              "      <th></th>\n",
              "      <th>Name</th>\n",
              "      <th>Age</th>\n",
              "    </tr>\n",
              "  </thead>\n",
              "  <tbody>\n",
              "    <tr>\n",
              "      <th>1</th>\n",
              "      <td>Cumings, Mrs. John Bradley (Florence Briggs Th...</td>\n",
              "      <td>38.0</td>\n",
              "    </tr>\n",
              "    <tr>\n",
              "      <th>2</th>\n",
              "      <td>Heikkinen, Miss. Laina</td>\n",
              "      <td>26.0</td>\n",
              "    </tr>\n",
              "    <tr>\n",
              "      <th>3</th>\n",
              "      <td>Futrelle, Mrs. Jacques Heath (Lily May Peel)</td>\n",
              "      <td>35.0</td>\n",
              "    </tr>\n",
              "    <tr>\n",
              "      <th>8</th>\n",
              "      <td>Johnson, Mrs. Oscar W (Elisabeth Vilhelmina Berg)</td>\n",
              "      <td>27.0</td>\n",
              "    </tr>\n",
              "    <tr>\n",
              "      <th>9</th>\n",
              "      <td>Nasser, Mrs. Nicholas (Adele Achem)</td>\n",
              "      <td>14.0</td>\n",
              "    </tr>\n",
              "    <tr>\n",
              "      <th>...</th>\n",
              "      <td>...</td>\n",
              "      <td>...</td>\n",
              "    </tr>\n",
              "    <tr>\n",
              "      <th>875</th>\n",
              "      <td>Najib, Miss. Adele Kiamie \"Jane\"</td>\n",
              "      <td>15.0</td>\n",
              "    </tr>\n",
              "    <tr>\n",
              "      <th>879</th>\n",
              "      <td>Potter, Mrs. Thomas Jr (Lily Alexenia Wilson)</td>\n",
              "      <td>56.0</td>\n",
              "    </tr>\n",
              "    <tr>\n",
              "      <th>880</th>\n",
              "      <td>Shelley, Mrs. William (Imanita Parrish Hall)</td>\n",
              "      <td>25.0</td>\n",
              "    </tr>\n",
              "    <tr>\n",
              "      <th>887</th>\n",
              "      <td>Graham, Miss. Margaret Edith</td>\n",
              "      <td>19.0</td>\n",
              "    </tr>\n",
              "    <tr>\n",
              "      <th>889</th>\n",
              "      <td>Behr, Mr. Karl Howell</td>\n",
              "      <td>26.0</td>\n",
              "    </tr>\n",
              "  </tbody>\n",
              "</table>\n",
              "<p>342 rows × 2 columns</p>\n",
              "</div>"
            ],
            "text/plain": [
              "                                                  Name   Age\n",
              "1    Cumings, Mrs. John Bradley (Florence Briggs Th...  38.0\n",
              "2                               Heikkinen, Miss. Laina  26.0\n",
              "3         Futrelle, Mrs. Jacques Heath (Lily May Peel)  35.0\n",
              "8    Johnson, Mrs. Oscar W (Elisabeth Vilhelmina Berg)  27.0\n",
              "9                  Nasser, Mrs. Nicholas (Adele Achem)  14.0\n",
              "..                                                 ...   ...\n",
              "875                   Najib, Miss. Adele Kiamie \"Jane\"  15.0\n",
              "879      Potter, Mrs. Thomas Jr (Lily Alexenia Wilson)  56.0\n",
              "880       Shelley, Mrs. William (Imanita Parrish Hall)  25.0\n",
              "887                       Graham, Miss. Margaret Edith  19.0\n",
              "889                              Behr, Mr. Karl Howell  26.0\n",
              "\n",
              "[342 rows x 2 columns]"
            ]
          },
          "metadata": {
            "tags": []
          },
          "execution_count": 14
        }
      ]
    },
    {
      "cell_type": "markdown",
      "metadata": {
        "id": "daMSeg_r6TBu"
      },
      "source": [
        "Полученный набор данных можно экспортировать обратно в csv функцией to_csv:"
      ]
    },
    {
      "cell_type": "code",
      "metadata": {
        "id": "VgtgzI3Y6TBv"
      },
      "source": [
        "survived.to_csv('survived.csv', index=False)"
      ],
      "execution_count": 15,
      "outputs": []
    },
    {
      "cell_type": "markdown",
      "metadata": {
        "id": "L6yjL_sL6TBv"
      },
      "source": [
        "## Numpy\n",
        "Numpy -- это библиотека для работы с массивами в Python. Список из стандартной библиотеки не достаточно производителен и имеет достаточно скудный интерфейс, чтобы использовать его для научных вычислений. Начнём с импорта библиотеки, который обычно записывают так:"
      ]
    },
    {
      "cell_type": "code",
      "metadata": {
        "id": "Obxs-pAD6TBv"
      },
      "source": [
        "import numpy as np"
      ],
      "execution_count": null,
      "outputs": []
    },
    {
      "cell_type": "markdown",
      "metadata": {
        "id": "jEq8za8G6TBv"
      },
      "source": [
        "Создадим массив"
      ]
    },
    {
      "cell_type": "code",
      "metadata": {
        "id": "WZ5-57X56TBw"
      },
      "source": [
        "arr = np.array([1,2,3,4])"
      ],
      "execution_count": null,
      "outputs": []
    },
    {
      "cell_type": "markdown",
      "metadata": {
        "id": "_GSx8SjM6TB2"
      },
      "source": [
        "Ровно как и с питоновскими списками можно получать элемент по индексу и делать слайсы:"
      ]
    },
    {
      "cell_type": "code",
      "metadata": {
        "id": "22FnP-fo6TB3"
      },
      "source": [
        "arr[0]"
      ],
      "execution_count": null,
      "outputs": []
    },
    {
      "cell_type": "code",
      "metadata": {
        "id": "9ls7y2BR6TB3"
      },
      "source": [
        "arr[2:]"
      ],
      "execution_count": null,
      "outputs": []
    },
    {
      "cell_type": "markdown",
      "metadata": {
        "id": "ZAkNqrDh6TB3"
      },
      "source": [
        "Но можно и доставать элементы по спи"
      ]
    },
    {
      "cell_type": "markdown",
      "metadata": {
        "id": "gKXBPcD06TB3"
      },
      "source": [
        "А можно сделать из него матрицу 2x2:"
      ]
    },
    {
      "cell_type": "code",
      "metadata": {
        "id": "bgwonmLd6TB3"
      },
      "source": [
        "m = arr.reshape((2,2))\n",
        "m"
      ],
      "execution_count": null,
      "outputs": []
    },
    {
      "cell_type": "markdown",
      "metadata": {
        "id": "3sDpdh726TB4"
      },
      "source": [
        "Можно транспонировать эту матрицу"
      ]
    },
    {
      "cell_type": "code",
      "metadata": {
        "id": "3Acqq_oy6TB4"
      },
      "source": [
        "m.T"
      ],
      "execution_count": null,
      "outputs": []
    },
    {
      "cell_type": "markdown",
      "metadata": {
        "id": "EMGUh42I6TB6"
      },
      "source": [
        "Вот так можно получить доступ к первой строке матрицы"
      ]
    },
    {
      "cell_type": "code",
      "metadata": {
        "id": "EjZ5WVXW6TB6"
      },
      "source": [
        "m[0]"
      ],
      "execution_count": null,
      "outputs": []
    },
    {
      "cell_type": "markdown",
      "metadata": {
        "id": "X1nnzhCE6TB7"
      },
      "source": [
        "А вот так -- ко второму столбцу:"
      ]
    },
    {
      "cell_type": "code",
      "metadata": {
        "id": "OPiYoAji6TB8"
      },
      "source": [
        "m[:,1]"
      ],
      "execution_count": null,
      "outputs": []
    },
    {
      "cell_type": "markdown",
      "metadata": {
        "id": "URJSRgSQ6TB8"
      },
      "source": [
        "Но самое интересное -- это применение операции ко всему массиву сразу. Например:"
      ]
    },
    {
      "cell_type": "code",
      "metadata": {
        "id": "eOSPF4LA6TB8"
      },
      "source": [
        "a = arr * 2\n",
        "a"
      ],
      "execution_count": null,
      "outputs": []
    },
    {
      "cell_type": "code",
      "metadata": {
        "id": "X2RJtNtU6TB9"
      },
      "source": [
        "b = arr + 1\n",
        "b"
      ],
      "execution_count": null,
      "outputs": []
    },
    {
      "cell_type": "markdown",
      "metadata": {
        "id": "NA-8blRe6TB9"
      },
      "source": [
        "Можно даже применять арифметические операции для двух массивов поэлементно, при условии, что их размеры совпадают:"
      ]
    },
    {
      "cell_type": "code",
      "metadata": {
        "id": "RbtxF-wo6TB9"
      },
      "source": [
        "a + b"
      ],
      "execution_count": null,
      "outputs": []
    },
    {
      "cell_type": "code",
      "metadata": {
        "id": "CWSobkSD6TB9"
      },
      "source": [
        "a - b"
      ],
      "execution_count": null,
      "outputs": []
    },
    {
      "cell_type": "code",
      "metadata": {
        "id": "a7Refe5G6TB9"
      },
      "source": [
        "a * b"
      ],
      "execution_count": null,
      "outputs": []
    },
    {
      "cell_type": "code",
      "metadata": {
        "id": "yae_ejLu6TB-"
      },
      "source": [
        "a / b"
      ],
      "execution_count": null,
      "outputs": []
    },
    {
      "cell_type": "code",
      "metadata": {
        "id": "Szxb7gvy6TB_"
      },
      "source": [
        "a ** b"
      ],
      "execution_count": null,
      "outputs": []
    },
    {
      "cell_type": "markdown",
      "metadata": {
        "id": "_Pl_Hlgl6TB_"
      },
      "source": [
        "Для нахождения скалярного произведения двух векторов есть оператор @"
      ]
    },
    {
      "cell_type": "code",
      "metadata": {
        "id": "y3t8x3Wv6TB_"
      },
      "source": [
        "a @ b"
      ],
      "execution_count": null,
      "outputs": []
    },
    {
      "cell_type": "markdown",
      "metadata": {
        "id": "XCXGwW0_6TCA"
      },
      "source": [
        "Он же отвечает за умножение матрицы на вектор и перемножение матриц по правилу строка на столбец:"
      ]
    },
    {
      "cell_type": "code",
      "metadata": {
        "id": "tT2glFy46TCA"
      },
      "source": [
        "m @ a[:2]"
      ],
      "execution_count": null,
      "outputs": []
    },
    {
      "cell_type": "code",
      "metadata": {
        "id": "Q0k0TDE66TCA"
      },
      "source": [
        "m @ m"
      ],
      "execution_count": null,
      "outputs": []
    },
    {
      "cell_type": "markdown",
      "metadata": {
        "id": "xnFJ8ste6TCA"
      },
      "source": [
        "Также массив позволяет находить статистические характеристики"
      ]
    },
    {
      "cell_type": "code",
      "metadata": {
        "id": "Lc3Qmkkp6TCA"
      },
      "source": [
        "arr.sum(), arr.mean(), arr.std()"
      ],
      "execution_count": null,
      "outputs": []
    },
    {
      "cell_type": "markdown",
      "metadata": {
        "id": "_0FUCi636TCA"
      },
      "source": [
        "Можно фильтровать элементы массива по условию"
      ]
    },
    {
      "cell_type": "code",
      "metadata": {
        "id": "p9A1kY2T6TCA"
      },
      "source": [
        "arr[arr < 3]"
      ],
      "execution_count": null,
      "outputs": []
    },
    {
      "cell_type": "markdown",
      "metadata": {
        "id": "lmH3K0BG6TCA"
      },
      "source": [
        "## Matplotlib\n",
        "Для визуализации данных в python есть пакет matplotlib. Обычно его импортируют так:"
      ]
    },
    {
      "cell_type": "code",
      "metadata": {
        "id": "IhBUClEi6TCB"
      },
      "source": [
        "from matplotlib import pyplot as plt\n",
        "%matplotlib inline"
      ],
      "execution_count": null,
      "outputs": []
    },
    {
      "cell_type": "markdown",
      "metadata": {
        "id": "Ad_SsAU26TCB"
      },
      "source": [
        "Вторая строчка нужна для того, чтобы графики отображались прямо в блокноте, а не в отдельном окне. Давайте что-нибудь построим:"
      ]
    },
    {
      "cell_type": "code",
      "metadata": {
        "scrolled": true,
        "id": "yK7T3GC26TCB"
      },
      "source": [
        "x = np.linspace(0, 2*np.pi, 100)\n",
        "plt.plot(x, np.sin(x))\n",
        "plt.show()"
      ],
      "execution_count": null,
      "outputs": []
    },
    {
      "cell_type": "code",
      "metadata": {
        "id": "AHjDM4e86TCC"
      },
      "source": [
        "x = np.linspace(0, 2*np.pi, 100)\n",
        "y = np.linspace(0, np.pi, 50)\n",
        "xx, yy = np.meshgrid(x, y)\n",
        "zz = np.sin(xx) * np.cos(yy)\n",
        "plt.contourf(xx, yy, zz, levels=100)\n",
        "plt.show()"
      ],
      "execution_count": null,
      "outputs": []
    },
    {
      "cell_type": "code",
      "metadata": {
        "id": "V8GFCngt6TCC"
      },
      "source": [
        "x = np.linspace(0, 10, 100)\n",
        "y = np.sin(x) + 0.1 * x\n",
        "plt.scatter(x + np.random.rand(*x.shape), y + np.random.rand(*x.shape))\n",
        "plt.show()"
      ],
      "execution_count": null,
      "outputs": []
    },
    {
      "cell_type": "markdown",
      "metadata": {
        "id": "5Txa0qRL6TCC"
      },
      "source": [
        "## Scikit-learn\n",
        "А теперь немного машинного обучения со scikit-learn. Рассмотрим примеры задач классификации с использованием решающих деревьев, метода k ближайших соседей, а также линейную регрессию."
      ]
    },
    {
      "cell_type": "markdown",
      "metadata": {
        "id": "xKKWJ4A56TCC"
      },
      "source": [
        "### Решающие деревья\n",
        "Рассмотрим знакомый уже нам набор данных о пассажирах титаника. Будем решать на них задачу классификации, в которой по различным характеристикам пассажиров требуется предсказать, кто из них выжил после крушения корабля и на основании полученной модели определим наиболее важные для выживания признаки.\n",
        "\n",
        "Для начала импортируем классификатор"
      ]
    },
    {
      "cell_type": "code",
      "metadata": {
        "id": "EwKMPX-O6TCC"
      },
      "source": [
        "from sklearn.tree import DecisionTreeClassifier"
      ],
      "execution_count": null,
      "outputs": []
    },
    {
      "cell_type": "code",
      "metadata": {
        "id": "DLpuuwwD6TCC"
      },
      "source": [
        "clf = DecisionTreeClassifier()"
      ],
      "execution_count": null,
      "outputs": []
    },
    {
      "cell_type": "markdown",
      "metadata": {
        "id": "Tm9Mt0Ew6TCD"
      },
      "source": [
        "Теперь подготовим данные. Для начала импортируем их и оставим только такие признаки как пол, класс, цена билета и возраст. В качестве целевой переменной у нас будет факт выживания:"
      ]
    },
    {
      "cell_type": "code",
      "metadata": {
        "id": "o59sNIBY6TCD"
      },
      "source": [
        "data = pd.read_csv('datasets/titanic.csv')\n",
        "interesting = data.loc[:, ['Sex', 'Pclass', 'Fare', 'Age', 'Survived']]"
      ],
      "execution_count": null,
      "outputs": []
    },
    {
      "cell_type": "markdown",
      "metadata": {
        "id": "ilHTB_Km6TCD"
      },
      "source": [
        "Обратим внимание, что имеются пропуски в данных. Избавимся от них, удалив соответствующие строки"
      ]
    },
    {
      "cell_type": "code",
      "metadata": {
        "id": "T0djCGD56TCD"
      },
      "source": [
        "interesting.dropna(inplace=True)"
      ],
      "execution_count": null,
      "outputs": []
    },
    {
      "cell_type": "markdown",
      "metadata": {
        "id": "gLX1A_Xq6TCD"
      },
      "source": [
        "Теперь отделим признаки от целевой переменной"
      ]
    },
    {
      "cell_type": "code",
      "metadata": {
        "id": "2UYbyshv6TCD"
      },
      "source": [
        "X = interesting.iloc[:, :-1]\n",
        "y = interesting.iloc[:, -1]"
      ],
      "execution_count": null,
      "outputs": []
    },
    {
      "cell_type": "markdown",
      "metadata": {
        "id": "e79R_71l6TCE"
      },
      "source": [
        "Заметим, что столбец Sex содержит текстовые данные и преобразуем их к числовым"
      ]
    },
    {
      "cell_type": "code",
      "metadata": {
        "id": "0Zjgt1nN6TCE"
      },
      "source": [
        "X.Sex = X.Sex.map(lambda x: 0 if x == 'female' else 1)"
      ],
      "execution_count": null,
      "outputs": []
    },
    {
      "cell_type": "markdown",
      "metadata": {
        "id": "7CodI1LV6TCE"
      },
      "source": [
        "Обучим классификатор"
      ]
    },
    {
      "cell_type": "code",
      "metadata": {
        "id": "p4RCrLV66TCE"
      },
      "source": [
        "clf.fit(X, y)"
      ],
      "execution_count": null,
      "outputs": []
    },
    {
      "cell_type": "markdown",
      "metadata": {
        "id": "lPFn40t46TCF"
      },
      "source": [
        "Посмотрим на его результаты на обучающей выборке"
      ]
    },
    {
      "cell_type": "code",
      "metadata": {
        "id": "q5lNmWlN6TCF"
      },
      "source": [
        "prediction = clf.predict(X)"
      ],
      "execution_count": null,
      "outputs": []
    },
    {
      "cell_type": "markdown",
      "metadata": {
        "id": "yvA7rHl86TCF"
      },
      "source": [
        "и определим долю правильных ответов"
      ]
    },
    {
      "cell_type": "code",
      "metadata": {
        "id": "7fIzuNUp6TCF"
      },
      "source": [
        "from sklearn.metrics import accuracy_score\n",
        "accuracy_score(y, prediction)"
      ],
      "execution_count": null,
      "outputs": []
    },
    {
      "cell_type": "markdown",
      "metadata": {
        "id": "htFfwfFb6TCG"
      },
      "source": [
        "### Метод k ближайших соседей\n",
        "Сейчас мы будем подбирать оптимальное значение k для алгоритма kNN. Будем использовать набор данных Wine, где требуется предсказать сорт винограда, из которого изготовлено вино, используя результаты химических анализов\n",
        "\n",
        "Начинаем с импорта классификатора"
      ]
    },
    {
      "cell_type": "code",
      "metadata": {
        "id": "xa7c-mMZ6TCG"
      },
      "source": [
        "from sklearn.neighbors import KNeighborsClassifier"
      ],
      "execution_count": null,
      "outputs": []
    },
    {
      "cell_type": "markdown",
      "metadata": {
        "id": "aVGhq1g66TCH"
      },
      "source": [
        "Загрузим данные"
      ]
    },
    {
      "cell_type": "code",
      "metadata": {
        "id": "BVaG3F6w6TCH"
      },
      "source": [
        "data = pd.read_csv('datasets/wine.csv', header=None)"
      ],
      "execution_count": null,
      "outputs": []
    },
    {
      "cell_type": "markdown",
      "metadata": {
        "id": "CaZrFy076TCH"
      },
      "source": [
        "Класс записан в первом столбце (три варианта), признаки — в столбцах со второго по последний."
      ]
    },
    {
      "cell_type": "code",
      "metadata": {
        "id": "dkxxnrGW6TCH"
      },
      "source": [
        "X = data.iloc[:, 1:]\n",
        "y = data.iloc[:, 0]"
      ],
      "execution_count": null,
      "outputs": []
    },
    {
      "cell_type": "markdown",
      "metadata": {
        "id": "LUnyeCVL6TCH"
      },
      "source": [
        "Для данного метода настраиваемым параметром является количество ближайших соседей k. Для определения качества классификации и оптимального количества соседей будем рассчитывать точность классификации на кросс-валидации для количества соседей в диапазоне от 1 до 50.\n",
        "\n",
        "Создадим генератор разбиений для проведения кросс-валидации"
      ]
    },
    {
      "cell_type": "code",
      "metadata": {
        "id": "8CcTUr-B6TCH"
      },
      "source": [
        "from sklearn.model_selection import KFold\n",
        "cv = KFold(y.size, n_splits=5, shuffle=True)"
      ],
      "execution_count": null,
      "outputs": []
    },
    {
      "cell_type": "markdown",
      "metadata": {
        "id": "i_w1qY4f6TCH"
      },
      "source": [
        "И с помощью GridSearchCV будем искать оптимальное значение k"
      ]
    },
    {
      "cell_type": "code",
      "metadata": {
        "id": "8Xz1OMfG6TCI"
      },
      "source": [
        "from sklearn.model_selection import GridSearchCV\n",
        "\n",
        "grid = {'n_neighbors': np.arange(50) + 1}\n",
        "clf = KNeighborsClassifier()\n",
        "gs = GridSearchCV(clf, grid, scoring='accuracy', cv=cv)\n",
        "gs.fit(X, y)"
      ],
      "execution_count": null,
      "outputs": []
    },
    {
      "cell_type": "markdown",
      "metadata": {
        "id": "PMXhoMX56TCI"
      },
      "source": [
        "Оптимальное значение количества соседей"
      ]
    },
    {
      "cell_type": "code",
      "metadata": {
        "id": "z0jj-NJp6TCJ"
      },
      "source": [
        "gs.best_params_"
      ],
      "execution_count": null,
      "outputs": []
    },
    {
      "cell_type": "markdown",
      "metadata": {
        "id": "S39LLdvU6TCJ"
      },
      "source": [
        "А точность при этом"
      ]
    },
    {
      "cell_type": "code",
      "metadata": {
        "id": "Tzncc3Mg6TCJ"
      },
      "source": [
        "gs.best_score_"
      ],
      "execution_count": null,
      "outputs": []
    },
    {
      "cell_type": "markdown",
      "metadata": {
        "id": "CV0D4Z_q6TCJ"
      },
      "source": [
        "### Логистическая регрессия\n",
        "\n",
        "Ещё одним способом классификации, несмотря на слово \"регрессия\" в названии, является логистическая регрессия. Одной из ее особенностей является возможность оценивания вероятностей классов, тогда как большинство линейных классификаторов могут выдавать только номера классов.\n",
        "\n",
        "Загрузим данные:"
      ]
    },
    {
      "cell_type": "code",
      "metadata": {
        "id": "P12qGYlK6TCL"
      },
      "source": [
        "data = pd.read_csv('datasets/data-logistic.csv', header=None)\n",
        "data"
      ],
      "execution_count": null,
      "outputs": []
    },
    {
      "cell_type": "markdown",
      "metadata": {
        "id": "T2bdboly6TCM"
      },
      "source": [
        "Импортируем классификатор"
      ]
    },
    {
      "cell_type": "code",
      "metadata": {
        "id": "yFFidOKN6TCM"
      },
      "source": [
        "from sklearn.linear_model import LogisticRegression\n",
        "clf = LogisticRegression(C=0.1)"
      ],
      "execution_count": null,
      "outputs": []
    },
    {
      "cell_type": "markdown",
      "metadata": {
        "id": "nkjT5mNx6TCM"
      },
      "source": [
        "Обучим классификатор"
      ]
    },
    {
      "cell_type": "code",
      "metadata": {
        "id": "8BLCNGnF6TCN"
      },
      "source": [
        "clf.fit(data.iloc[:,1:], data.iloc[:,0])"
      ],
      "execution_count": null,
      "outputs": []
    },
    {
      "cell_type": "markdown",
      "metadata": {
        "id": "Ap767Tiw6TCN"
      },
      "source": [
        "Визуализируем результат"
      ]
    },
    {
      "cell_type": "code",
      "metadata": {
        "id": "Qis52JZH6TCN"
      },
      "source": [
        "xx,yy = np.meshgrid(np.linspace(data.iloc[:,1].min(), data.iloc[:,1].max(), 100),\n",
        "                    np.linspace(data.iloc[:,2].min(), data.iloc[:,2].max(), 100))\n",
        "zz = clf.predict(np.column_stack((xx.ravel(), yy.ravel())))\n",
        "zz = zz.reshape(xx.shape)\n",
        "plt.contourf(xx, yy, zz, levels=100)\n",
        "plt.scatter(data[data[0]==-1].iloc[:,1], data[data[0]==-1].iloc[:,2], marker='v')\n",
        "plt.scatter(data[data[0]==1].iloc[:,1], data[data[0]==1].iloc[:,2], marker='^')"
      ],
      "execution_count": null,
      "outputs": []
    },
    {
      "cell_type": "markdown",
      "metadata": {
        "id": "f52zbHgO6TCN"
      },
      "source": [
        "Определим качество классификации при помощи метрики ROC-AUC:"
      ]
    },
    {
      "cell_type": "code",
      "metadata": {
        "id": "0FAzg1TK6TCN"
      },
      "source": [
        "from sklearn.metrics import roc_auc_score\n",
        "roc_auc_score(data[0], clf.predict(data.iloc[:, 1:]))"
      ],
      "execution_count": null,
      "outputs": []
    },
    {
      "cell_type": "markdown",
      "metadata": {
        "id": "U1VhT5bL6TCN"
      },
      "source": [
        "### Линейная регрессия\n",
        "А сейчас мы будем предсказывать зарплату по описанию вакансии! Начнём с загрузки данных"
      ]
    },
    {
      "cell_type": "code",
      "metadata": {
        "id": "NMPqLunX6TCO"
      },
      "source": [
        "data = pd.read_csv('datasets/salary-train.csv')\n",
        "data"
      ],
      "execution_count": null,
      "outputs": []
    },
    {
      "cell_type": "markdown",
      "metadata": {
        "id": "C-kYsGK06TCO"
      },
      "source": [
        "Подготовим данные. Для начала преобразуем все слова в столбце FullDescription в нижний регистр и заменим все спецсимволы на пробелы"
      ]
    },
    {
      "cell_type": "code",
      "metadata": {
        "id": "XT6AgZS16TCO"
      },
      "source": [
        "data.FullDescription = data.FullDescription.str.lower()\n",
        "data.FullDescription = data.FullDescription.replace('[^a-zA-Z0-9]', ' ', regex = True)"
      ],
      "execution_count": null,
      "outputs": []
    },
    {
      "cell_type": "markdown",
      "metadata": {
        "id": "4RpAJaDl6TCO"
      },
      "source": [
        "Теперь заменим все пропущенные данные в столбцах LocationNormalized и ContractTime на 'nan':"
      ]
    },
    {
      "cell_type": "code",
      "metadata": {
        "id": "YxiV4cSf6TCO"
      },
      "source": [
        "data['LocationNormalized'].fillna('nan', inplace=True)\n",
        "data['ContractTime'].fillna('nan', inplace=True)"
      ],
      "execution_count": null,
      "outputs": []
    },
    {
      "cell_type": "markdown",
      "metadata": {
        "id": "3cs90Dh46TCP"
      },
      "source": [
        "Теперь нам нужно преобразовать текст из столбца FullDescription в набор признаков. Одним из способов это сделать является TfidVectorizer."
      ]
    },
    {
      "cell_type": "code",
      "metadata": {
        "id": "BfIJwTUn6TCP"
      },
      "source": [
        "from sklearn.feature_extraction.text import TfidfVectorizer\n",
        "tfid = TfidfVectorizer(min_df=5)\n",
        "X_train_tfid = tfid.fit_transform(data.FullDescription)"
      ],
      "execution_count": null,
      "outputs": []
    },
    {
      "cell_type": "markdown",
      "metadata": {
        "id": "25ZOUx_o6TCP"
      },
      "source": [
        "Чтобы представить в виде набора числовых признаков содержимое столбцов LocationNormalized и ContractTime воспользуемся DictVectorizer"
      ]
    },
    {
      "cell_type": "code",
      "metadata": {
        "id": "p_-CFwX36TCP"
      },
      "source": [
        "from sklearn.feature_extraction import DictVectorizer\n",
        "enc = DictVectorizer()\n",
        "X_train_categ = enc.fit_transform(data[['LocationNormalized', 'ContractTime']].to_dict('records'))"
      ],
      "execution_count": null,
      "outputs": []
    },
    {
      "cell_type": "markdown",
      "metadata": {
        "id": "2TG4V3mt6TCP"
      },
      "source": [
        "Объединим матрицы признаков"
      ]
    },
    {
      "cell_type": "code",
      "metadata": {
        "id": "qRDhHXnx6TCP"
      },
      "source": [
        "from scipy.sparse import hstack\n",
        "X = hstack((X_train_categ, X_train_tfid))"
      ],
      "execution_count": null,
      "outputs": []
    },
    {
      "cell_type": "markdown",
      "metadata": {
        "id": "Sq40AKHE6TCP"
      },
      "source": [
        "Обучим на этих признаках регрессор"
      ]
    },
    {
      "cell_type": "code",
      "metadata": {
        "id": "eraAm8Ig6TCP"
      },
      "source": [
        "from sklearn.linear_model import Ridge\n",
        "reg = Ridge(alpha=1)\n",
        "reg.fit(X, data.SalaryNormalized)"
      ],
      "execution_count": null,
      "outputs": []
    },
    {
      "cell_type": "markdown",
      "metadata": {
        "id": "FL5ISyhi6TCQ"
      },
      "source": [
        "Загрузим и преобразуем тестовые данные тем же образом"
      ]
    },
    {
      "cell_type": "code",
      "metadata": {
        "id": "pJHS_8Ao6TCQ"
      },
      "source": [
        "test = pd.read_csv('datasets/salary-test-mini.csv')\n",
        "test.FullDescription = test.FullDescription.str.lower()\n",
        "test.FullDescription = test.FullDescription.replace('[^a-zA-Z0-9]', ' ', regex = True)\n",
        "test"
      ],
      "execution_count": null,
      "outputs": []
    },
    {
      "cell_type": "markdown",
      "metadata": {
        "id": "JDHUZeEI6TCQ"
      },
      "source": [
        "Выделим признаки и получим предсказания зарплат"
      ]
    },
    {
      "cell_type": "code",
      "metadata": {
        "id": "ZXkUMxr66TCQ"
      },
      "source": [
        "X_test_tfid = tfid.transform(test.FullDescription)\n",
        "X_test_categ = enc.transform(test[['LocationNormalized', 'ContractTime']].to_dict('records'))\n",
        "X_test = hstack((X_test_categ, X_test_tfid))\n",
        "\n",
        "test.SalaryNormalized = reg.predict(X_test)\n",
        "test"
      ],
      "execution_count": null,
      "outputs": []
    },
    {
      "cell_type": "code",
      "metadata": {
        "id": "xTrQOTaf6TCQ"
      },
      "source": [
        ""
      ],
      "execution_count": null,
      "outputs": []
    }
  ]
}